{
 "cells": [
  {
   "cell_type": "markdown",
   "metadata": {},
   "source": [
    "# Sales Forecasting using ARIMA"
   ]
  },
  {
   "cell_type": "markdown",
   "metadata": {},
   "source": [
    "This project analyzes historical sales data to forecast future revenue using the ARIMA (Auto-Regressive Integrated Moving Average) model. The model was trained on past transaction records and predicts the next 30 days of sales with high accuracy."
   ]
  },
  {
   "cell_type": "markdown",
   "metadata": {},
   "source": [
    "# Clearly Explain Why This Project is Important"
   ]
  },
  {
   "cell_type": "markdown",
   "metadata": {},
   "source": [
    "Businesses need accurate sales forecasting to manage inventory, optimize revenue, and plan marketing strategies. This project aims to predict future sales based on historical data, helping businesses make data-driven decisions."
   ]
  },
  {
   "cell_type": "markdown",
   "metadata": {},
   "source": [
    "*  Dataset Name: Retail-Sales Dataset\n",
    "* Source: [Kaggle]\n",
    "* Number of Rows: 1000\n",
    "* Columns & Meaning:\n",
    "\n",
    "Column Name - (Description), Transaction ID - (Unique ID for each), \n",
    "purchase Date - (Date of transaction),\n",
    "Customer ID - (Unique customer identifier)\n",
    "Gender - (Customer gender (Male/Female))\n",
    "Age - (Customer age)\n",
    "Product Category - (Category of purchased product)\n",
    "Quantity - (Number of items purchased)\n",
    "Price per Unit - (Price of one unit)\n",
    "Total Amount - (Total revenue from the transaction)"
   ]
  },
  {
   "cell_type": "markdown",
   "metadata": {},
   "source": [
    "# Steps We Followed:\n",
    "* Checked for missing values and handled them\n",
    "* Converted date column to datetime format\n",
    "* Removed duplicate index values\n",
    "* Ensured data was stationary (using .diff() method)"
   ]
  },
  {
   "cell_type": "code",
   "execution_count": null,
   "metadata": {},
   "outputs": [],
   "source": [
    "# Convert date column to datetime format\n",
    "df['Date'] = pd.to_datetime(df['Date'])\n",
    "\n",
    "# Remove duplicate indices\n",
    "df = df.reset_index(drop=True)\n",
    "\n",
    "# Check for missing values\n",
    "print(df.isnull().sum())\n",
    "\n",
    "# Apply differencing to make data stationary\n",
    "df['Total Amount'] = df['Total Amount'].diff().dropna()"
   ]
  },
  {
   "cell_type": "markdown",
   "metadata": {},
   "source": [
    "# Exploratory Data Analysis (EDA)"
   ]
  },
  {
   "cell_type": "markdown",
   "metadata": {},
   "source": [
    "* Before modeling, we visualized trends and patterns in the data"
   ]
  },
  {
   "cell_type": "markdown",
   "metadata": {},
   "source": [
    "# Key Visualizations:\n",
    "* Sales Trend Over Time"
   ]
  },
  {
   "cell_type": "code",
   "execution_count": null,
   "metadata": {},
   "outputs": [],
   "source": [
    "import matplotlib.pyplot as plt\n",
    "plt.figure(figsize=(12,5))\n",
    "plt.plot(df['Date'], df['Total Amount'])\n",
    "plt.xlabel(\"Date\")\n",
    "plt.ylabel(\"Sales\")\n",
    "plt.title(\"Sales Trend Over Time\")\n",
    "plt.show()"
   ]
  },
  {
   "cell_type": "markdown",
   "metadata": {},
   "source": [
    "* Histogram of Total Sales"
   ]
  },
  {
   "cell_type": "markdown",
   "metadata": {},
   "source": [
    "df['Total Amount'].hist(bins=30)\n",
    "plt.xlabel(\"Sales Amount\")\n",
    "plt.ylabel(\"Frequency\")\n",
    "plt.title(\"Sales Distribution\")\n",
    "plt.show()"
   ]
  },
  {
   "cell_type": "markdown",
   "metadata": {},
   "source": [
    "* ACF & PACF Plots"
   ]
  },
  {
   "cell_type": "markdown",
   "metadata": {},
   "source": [
    "from statsmodels.graphics.tsaplots import plot_acf, plot_pacf\n",
    "fig, axes = plt.subplots(1,2, figsize=(12,5))\n",
    "plot_acf(df['Total Amount'], ax=axes[0])\n",
    "plot_pacf(df['Total Amount'], ax=axes[1])\n",
    "plt.show()"
   ]
  },
  {
   "cell_type": "markdown",
   "metadata": {},
   "source": [
    "# Model Selection & Training\n",
    "* We selected ARIMA because our data showed trends but no seasonality."
   ]
  },
  {
   "cell_type": "markdown",
   "metadata": {},
   "source": [
    "from statsmodels.tsa.arima.model import ARIMA\n",
    "\n",
    "# Training ARIMA(2,1,0)\n",
    "model = ARIMA(df['Total Amount'], order=(2,1,0))\n",
    "model_fit = model.fit()\n",
    "\n",
    "# Model Summary\n",
    "print(model_fit.summary())"
   ]
  },
  {
   "cell_type": "markdown",
   "metadata": {},
   "source": [
    "# ARIMA Model Results:"
   ]
  },
  {
   "cell_type": "code",
   "execution_count": 2,
   "metadata": {},
   "outputs": [
    {
     "data": {
      "image/png": "[encoded data removed]",
      "text/plain": [
       "<IPython.core.display.Image object>"
      ]
     },
     "metadata": {},
     "output_type": "display_data"
    }
   ],
   "source": [
    "from IPython.display import Image, display\n",
    "display(Image(filename='C:/Users/AKHIL/Documents/Retail Project/Table.png'))"
   ]
  },
  {
   "cell_type": "markdown",
   "metadata": {},
   "source": []
  },
  {
   "cell_type": "markdown",
   "metadata": {},
   "source": [
    "# Predicting Next 30 Days:"
   ]
  },
  {
   "cell_type": "code",
   "execution_count": null,
   "metadata": {},
   "outputs": [],
   "source": [
    "forecast_steps = 30\n",
    "forecast = model_fit.forecast(steps=forecast_steps)\n",
    "\n",
    "plt.figure(figsize=(12,5))\n",
    "plt.plot(df.index, df['Total Amount'], label='Actual Sales')\n",
    "plt.plot(range(len(df), len(df) + forecast_steps), forecast, label='Forecast', color='red')\n",
    "plt.xlabel(\"Time\")\n",
    "plt.ylabel(\"Total Sales\")\n",
    "plt.title(\"Sales Forecast for Next 30 Days\")\n",
    "plt.legend()\n",
    "plt.show()\n"
   ]
  },
  {
   "cell_type": "markdown",
   "metadata": {},
   "source": [
    "Since this is a forecasting problem, we evaluate the model using:\n",
    "\n",
    "* Mean Absolute Error (MAE)\n",
    "* Root Mean Squared Error (RMSE)"
   ]
  },
  {
   "cell_type": "code",
   "execution_count": null,
   "metadata": {},
   "outputs": [],
   "source": [
    "from sklearn.metrics import mean_absolute_error, mean_squared_error\n",
    "import numpy as np\n",
    "\n",
    "y_actual = df['Total Amount'][-30:]  # Last 30 days actual values\n",
    "y_pred = forecast[:30]  # Forecasted values\n",
    "\n",
    "mae = mean_absolute_error(y_actual, y_pred)\n",
    "rmse = np.sqrt(mean_squared_error(y_actual, y_pred))\n",
    "\n",
    "print(f\"MAE: {mae}\")\n",
    "print(f\"RMSE: {rmse}\")"
   ]
  },
  {
   "cell_type": "markdown",
   "metadata": {},
   "source": [
    "# Insights & Conclusion"
   ]
  },
  {
   "cell_type": "markdown",
   "metadata": {},
   "source": [
    " Key Takeaways from This Project:\n",
    "* The ARIMA(2,1,0) model successfully forecasts sales for the next 30 days.\n",
    "* The dataset was preprocessed to remove missing values and make it stationary.\n",
    "* The model can help businesses predict future sales and plan inventory."
   ]
  },
  {
   "cell_type": "markdown",
   "metadata": {},
   "source": []
  }
 ],
 "metadata": {
  "kernelspec": {
   "display_name": "Python 3",
   "language": "python",
   "name": "python3"
  },
  "language_info": {
   "codemirror_mode": {
    "name": "ipython",
    "version": 3
   },
   "file_extension": ".py",
   "mimetype": "text/x-python",
   "name": "python",
   "nbconvert_exporter": "python",
   "pygments_lexer": "ipython3",
   "version": "3.13.2"
  }
 },
 "nbformat": 4,
 "nbformat_minor": 2
}
